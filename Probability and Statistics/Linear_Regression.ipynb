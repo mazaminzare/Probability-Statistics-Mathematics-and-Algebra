{
  "nbformat": 4,
  "nbformat_minor": 0,
  "metadata": {
    "colab": {
      "provenance": []
    },
    "kernelspec": {
      "name": "python3",
      "display_name": "Python 3"
    },
    "language_info": {
      "name": "python"
    }
  },
  "cells": [
    {
      "cell_type": "markdown",
      "source": [
        "# Simple Linear Regression:\n"
      ],
      "metadata": {
        "id": "uR8LeCAh5wXb"
      }
    },
    {
      "cell_type": "code",
      "execution_count": 5,
      "metadata": {
        "colab": {
          "base_uri": "https://localhost:8080/"
        },
        "id": "ve3eOUyl5sS8",
        "outputId": "6b8c6d0a-1502-49c7-f009-4aa2d7768507"
      },
      "outputs": [
        {
          "output_type": "stream",
          "name": "stdout",
          "text": [
            "Slope: 1.9999999999999996\n",
            "Intercept: 8.881784197001252e-16\n"
          ]
        }
      ],
      "source": [
        "import numpy as np\n",
        "from sklearn.linear_model import LinearRegression\n",
        "\n",
        "# Sample Data\n",
        "X = np.array([[1], [2], [3]])\n",
        "y = np.array([2, 4, 6])\n",
        "\n",
        "# Linear Regression\n",
        "model = LinearRegression()\n",
        "model.fit(X, y)\n",
        "\n",
        "slope = model.coef_[0]\n",
        "intercept = model.intercept_\n",
        "\n",
        "print(\"Slope:\", slope)\n",
        "print(\"Intercept:\", intercept)\n"
      ]
    },
    {
      "cell_type": "markdown",
      "source": [
        "# **Multiple Linear Regression**\n",
        ""
      ],
      "metadata": {
        "id": "mrqtMdar58X6"
      }
    },
    {
      "cell_type": "code",
      "source": [
        "import numpy as np\n",
        "from sklearn.linear_model import LinearRegression\n",
        "\n",
        "# Sample Data\n",
        "X = np.array([[1, 2], [2, 3], [3, 4]])\n",
        "y = np.array([4, 7, 9])\n",
        "\n",
        "# Multiple Linear Regression\n",
        "model = LinearRegression()\n",
        "model.fit(X, y)\n",
        "\n",
        "coefficients = model.coef_\n",
        "intercept = model.intercept_\n",
        "\n",
        "print(\"Coefficients:\", coefficients)\n",
        "print(\"Intercept:\", intercept)\n"
      ],
      "metadata": {
        "colab": {
          "base_uri": "https://localhost:8080/"
        },
        "id": "FhiUHEv658fa",
        "outputId": "81e658ca-208c-4d9b-f38a-fe9f0c2b136a"
      },
      "execution_count": 6,
      "outputs": [
        {
          "output_type": "stream",
          "name": "stdout",
          "text": [
            "Coefficients: [1.25 1.25]\n",
            "Intercept: 0.41666666666666874\n"
          ]
        }
      ]
    },
    {
      "cell_type": "markdown",
      "source": [
        "# Polynomial Regression:\n"
      ],
      "metadata": {
        "id": "GopU05C96Y_6"
      }
    },
    {
      "cell_type": "code",
      "source": [
        "import numpy as np\n",
        "from sklearn.linear_model import LinearRegression\n",
        "from sklearn.preprocessing import PolynomialFeatures\n",
        "\n",
        "# Sample Data\n",
        "X = np.array([[1], [2], [3]])\n",
        "y = np.array([2, 4, 9])\n",
        "\n",
        "# Polynomial Features\n",
        "poly = PolynomialFeatures(degree=2)\n",
        "X_poly = poly.fit_transform(X)\n",
        "\n",
        "# Polynomial Regression\n",
        "model = LinearRegression()\n",
        "model.fit(X_poly, y)\n",
        "\n",
        "intercept = model.intercept_\n",
        "coefficients = model.coef_\n",
        "\n",
        "print(\"Intercept:\", intercept)\n",
        "print(\"Coefficients:\", coefficients)\n"
      ],
      "metadata": {
        "colab": {
          "base_uri": "https://localhost:8080/"
        },
        "id": "D738Laev6Rci",
        "outputId": "5b052a1f-3c72-4396-8b2d-8b3e62aadef4"
      },
      "execution_count": 7,
      "outputs": [
        {
          "output_type": "stream",
          "name": "stdout",
          "text": [
            "Intercept: 3.0000000000000107\n",
            "Coefficients: [ 0.  -2.5  1.5]\n"
          ]
        }
      ]
    },
    {
      "cell_type": "markdown",
      "source": [
        "# **Ridge Regression:**"
      ],
      "metadata": {
        "id": "pHvze7OYB33y"
      }
    },
    {
      "cell_type": "code",
      "source": [
        "import numpy as np\n",
        "from sklearn.linear_model import Ridge\n",
        "\n",
        "# Sample Data\n",
        "X = np.array([[1], [2], [3]])\n",
        "y = np.array([3, 6, 9])\n",
        "\n",
        "# Ridge Regression\n",
        "model = Ridge(alpha=1.0)\n",
        "model.fit(X, y)\n",
        "\n",
        "slope = model.coef_[0]\n",
        "intercept = model.intercept_\n",
        "\n",
        "print(\"Slope:\", slope)\n",
        "print(\"Intercept:\", intercept)\n"
      ],
      "metadata": {
        "colab": {
          "base_uri": "https://localhost:8080/"
        },
        "id": "TCMEE0WOB6ES",
        "outputId": "afd0b71b-a35e-4d0e-b49d-f815a79e54fe"
      },
      "execution_count": 8,
      "outputs": [
        {
          "output_type": "stream",
          "name": "stdout",
          "text": [
            "Slope: 2.0000000000000004\n",
            "Intercept: 1.9999999999999991\n"
          ]
        }
      ]
    },
    {
      "cell_type": "markdown",
      "source": [
        "# **Lasso Regression:**"
      ],
      "metadata": {
        "id": "cdQ9UYh7B8UZ"
      }
    },
    {
      "cell_type": "code",
      "source": [
        "import numpy as np\n",
        "from sklearn.linear_model import Lasso\n",
        "\n",
        "# Sample Data\n",
        "X = np.array([[1], [2], [3]])\n",
        "y = np.array([4, 7, 10])\n",
        "\n",
        "# Lasso Regression\n",
        "model = Lasso(alpha=1.0)\n",
        "model.fit(X, y)\n",
        "\n",
        "slope = model.coef_[0]\n",
        "intercept = model.intercept_\n",
        "\n",
        "print(\"Slope:\", slope)\n",
        "print(\"Intercept:\", intercept)\n"
      ],
      "metadata": {
        "colab": {
          "base_uri": "https://localhost:8080/"
        },
        "id": "w4Ryojv_CAFR",
        "outputId": "859f99c8-58c4-400d-f6ab-64012ed49996"
      },
      "execution_count": 9,
      "outputs": [
        {
          "output_type": "stream",
          "name": "stdout",
          "text": [
            "Slope: 1.5\n",
            "Intercept: 4.0\n"
          ]
        }
      ]
    },
    {
      "cell_type": "markdown",
      "source": [
        "# **Elastic Net Regression:**\n"
      ],
      "metadata": {
        "id": "9CsnfmO9CDVR"
      }
    },
    {
      "cell_type": "code",
      "source": [
        "import numpy as np\n",
        "from sklearn.linear_model import ElasticNet\n",
        "\n",
        "# Sample Data\n",
        "X = np.array([[1], [2], [3]])\n",
        "y = np.array([3, 6, 8])\n",
        "\n",
        "# Elastic Net Regression\n",
        "model = ElasticNet(alpha=1.0, l1_ratio=0.5)\n",
        "model.fit(X, y)\n",
        "\n",
        "slope = model.coef_[0]\n",
        "intercept = model.intercept_\n",
        "\n",
        "print(\"Slope:\", slope)\n",
        "print(\"Intercept:\", intercept)\n"
      ],
      "metadata": {
        "colab": {
          "base_uri": "https://localhost:8080/"
        },
        "id": "lxMbkx10CFnZ",
        "outputId": "4dae525b-c0f0-4e65-edc1-9d56367a6129"
      },
      "execution_count": 10,
      "outputs": [
        {
          "output_type": "stream",
          "name": "stdout",
          "text": [
            "Slope: 1.0\n",
            "Intercept: 3.666666666666667\n"
          ]
        }
      ]
    }
  ]
}