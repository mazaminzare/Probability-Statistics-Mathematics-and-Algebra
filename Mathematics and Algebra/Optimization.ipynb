{
  "nbformat": 4,
  "nbformat_minor": 0,
  "metadata": {
    "colab": {
      "provenance": []
    },
    "kernelspec": {
      "name": "python3",
      "display_name": "Python 3"
    },
    "language_info": {
      "name": "python"
    }
  },
  "cells": [
    {
      "cell_type": "markdown",
      "source": [
        "# **Simulated Annealing:**\n",
        "Simulated Annealing is a probabilistic optimization algorithm inspired by annealing in metallurgy. It explores the solution space by accepting worse solutions with decreasing probability."
      ],
      "metadata": {
        "id": "BvaxH9_2F7zE"
      }
    },
    {
      "cell_type": "code",
      "source": [
        "import math\n",
        "import random\n",
        "\n",
        "def simulated_annealing(f, initial_solution, temperature, cooling_rate, num_iterations):\n",
        "    current_solution = initial_solution\n",
        "    best_solution = current_solution\n",
        "\n",
        "    for _ in range(num_iterations):\n",
        "        new_solution = generate_neighbor(current_solution)\n",
        "        current_energy = f(current_solution)\n",
        "        new_energy = f(new_solution)\n",
        "\n",
        "        if new_energy < current_energy or random.random() < math.exp((current_energy - new_energy) / temperature):\n",
        "            current_solution = new_solution\n",
        "\n",
        "        if new_energy < f(best_solution):\n",
        "            best_solution = new_solution\n",
        "\n",
        "        temperature *= cooling_rate\n",
        "\n",
        "    return best_solution\n",
        "\n",
        "def generate_neighbor(solution):\n",
        "    # Generate a neighboring solution by adding random noise\n",
        "    neighbor = solution + random.uniform(-0.1, 0.1)  # Adjust the range based on your problem\n",
        "    return neighbor\n",
        "\n",
        "# Example usage\n",
        "def quadratic_function(x):\n",
        "    return x**2\n",
        "\n",
        "initial_solution = random.uniform(-10, 10)\n",
        "initial_temperature = 100.0\n",
        "cooling_rate = 0.95\n",
        "iterations = 1000\n",
        "optimal_solution = simulated_annealing(quadratic_function, initial_solution, initial_temperature, cooling_rate, iterations)\n",
        "print(\"Optimal solution:\", optimal_solution)\n"
      ],
      "metadata": {
        "colab": {
          "base_uri": "https://localhost:8080/"
        },
        "id": "QB9wqBVlK7qB",
        "outputId": "53724ea4-25d6-4b28-d165-db510624c5b4"
      },
      "execution_count": 8,
      "outputs": [
        {
          "output_type": "stream",
          "name": "stdout",
          "text": [
            "Optimal solution: 0.00012452081937132375\n"
          ]
        }
      ]
    },
    {
      "cell_type": "markdown",
      "source": [
        "# **Gradient Descent**"
      ],
      "metadata": {
        "id": "2m5Rw2NhH3hx"
      }
    },
    {
      "cell_type": "code",
      "source": [
        "def gradient_descent(f, df, initial_x, learning_rate, num_iterations):\n",
        "    x = initial_x\n",
        "    for _ in range(num_iterations):\n",
        "        gradient = df(x)\n",
        "        x -= learning_rate * gradient\n",
        "    return x\n",
        "\n",
        "# Example usage\n",
        "def quadratic_function(x):\n",
        "    return x**2\n",
        "\n",
        "def quadratic_derivative(x):\n",
        "    return 2 * x\n",
        "\n",
        "initial_guess = 5\n",
        "learning_rate = 0.1\n",
        "iterations = 100\n",
        "optimal_x = gradient_descent(quadratic_function, quadratic_derivative, initial_guess, learning_rate, iterations)\n",
        "print(\"Optimal x:\", optimal_x)"
      ],
      "metadata": {
        "colab": {
          "base_uri": "https://localhost:8080/"
        },
        "id": "eMX9P9OrH1XU",
        "outputId": "90d720d8-94be-44b6-d852-9b1dcae6baf2"
      },
      "execution_count": 5,
      "outputs": [
        {
          "output_type": "stream",
          "name": "stdout",
          "text": [
            "Optimal x: 1.0185179881672439e-09\n"
          ]
        }
      ]
    },
    {
      "cell_type": "markdown",
      "source": [
        "# **Gradient Descent Optimization Algorithm with Momentum:**\n"
      ],
      "metadata": {
        "id": "mKvclSB2LaDZ"
      }
    },
    {
      "cell_type": "code",
      "source": [
        "import numpy as np\n",
        "\n",
        "def gradient_descent_with_momentum(f, df, initial_x, learning_rate, momentum_rate, num_iterations):\n",
        "    x = initial_x\n",
        "    velocity = np.zeros_like(x)\n",
        "\n",
        "    for _ in range(num_iterations):\n",
        "        gradient = df(x)\n",
        "        velocity = momentum_rate * velocity + learning_rate * gradient\n",
        "        x -= velocity\n",
        "\n",
        "    return x\n",
        "\n",
        "# Example usage\n",
        "def quadratic_function(x):\n",
        "    return x**2\n",
        "\n",
        "def quadratic_derivative(x):\n",
        "    return 2 * x\n",
        "\n",
        "initial_guess = 5\n",
        "learning_rate = 0.1\n",
        "momentum_rate = 0.9\n",
        "iterations = 100\n",
        "optimal_x = gradient_descent_with_momentum(quadratic_function, quadratic_derivative, initial_guess, learning_rate, momentum_rate, iterations)\n",
        "print(\"Optimal x:\", optimal_x)\n"
      ],
      "metadata": {
        "id": "t213UuqYLZ75"
      },
      "execution_count": null,
      "outputs": []
    },
    {
      "cell_type": "markdown",
      "source": [
        "# **RMSprob Optimizer**"
      ],
      "metadata": {
        "id": "WNqmcEZ_LGdR"
      }
    },
    {
      "cell_type": "code",
      "source": [
        "import numpy as np\n",
        "\n",
        "def rmsprop_optimizer(f, df, initial_x, learning_rate, decay_rate=0.9, epsilon=1e-8, num_iterations=100):\n",
        "    x = initial_x\n",
        "    squared_gradients = np.zeros_like(x)\n",
        "\n",
        "    for _ in range(num_iterations):\n",
        "        gradient = df(x)\n",
        "        squared_gradients = decay_rate * squared_gradients + (1 - decay_rate) * gradient ** 2\n",
        "        x -= learning_rate * gradient / (np.sqrt(squared_gradients) + epsilon)\n",
        "\n",
        "    return x\n",
        "\n",
        "# Example usage\n",
        "def quadratic_function(x):\n",
        "    return x**2\n",
        "\n",
        "def quadratic_derivative(x):\n",
        "    return 2 * x\n",
        "\n",
        "initial_guess = 5\n",
        "learning_rate = 0.1\n",
        "iterations = 100\n",
        "optimal_x = rmsprop_optimizer(quadratic_function, quadratic_derivative, initial_guess, learning_rate, num_iterations=iterations)\n",
        "print(\"Optimal x:\", optimal_x)\n"
      ],
      "metadata": {
        "id": "Mr7Kz_fJLGng"
      },
      "execution_count": null,
      "outputs": []
    },
    {
      "cell_type": "markdown",
      "source": [
        "# **Adam Optimizer**"
      ],
      "metadata": {
        "id": "KEAULdxGJ7hS"
      }
    },
    {
      "cell_type": "code",
      "source": [
        "import numpy as np\n",
        "\n",
        "def adam_optimizer(f, df, initial_x, learning_rate, beta1=0.9, beta2=0.999, epsilon=1e-8, num_iterations=100):\n",
        "    x = initial_x\n",
        "    m = np.zeros_like(x)\n",
        "    v = np.zeros_like(x)\n",
        "    t = 0\n",
        "\n",
        "    for _ in range(num_iterations):\n",
        "        t += 1\n",
        "        gradient = df(x)\n",
        "        m = beta1 * m + (1 - beta1) * gradient\n",
        "        v = beta2 * v + (1 - beta2) * gradient ** 2\n",
        "        m_hat = m / (1 - beta1 ** t)\n",
        "        v_hat = v / (1 - beta2 ** t)\n",
        "        x -= learning_rate * m_hat / (np.sqrt(v_hat) + epsilon)\n",
        "\n",
        "    return x\n",
        "\n",
        "# Example usage\n",
        "def quadratic_function(x):\n",
        "    return x**2\n",
        "\n",
        "def quadratic_derivative(x):\n",
        "    return 2 * x\n",
        "\n",
        "initial_guess = 5\n",
        "learning_rate = 0.1\n",
        "iterations = 100\n",
        "optimal_x = adam_optimizer(quadratic_function, quadratic_derivative, initial_guess, learning_rate, num_iterations=iterations)\n",
        "print(\"Optimal x:\", optimal_x)"
      ],
      "metadata": {
        "colab": {
          "base_uri": "https://localhost:8080/"
        },
        "id": "Y_Hu0gFAJ7qL",
        "outputId": "c280b7a2-8d4d-44bd-eb35-64faa68a339d"
      },
      "execution_count": 6,
      "outputs": [
        {
          "output_type": "stream",
          "name": "stdout",
          "text": [
            "Optimal x: -0.03900403122391936\n"
          ]
        }
      ]
    },
    {
      "cell_type": "markdown",
      "source": [],
      "metadata": {
        "id": "YsNG4efgM8ZR"
      }
    },
    {
      "cell_type": "code",
      "source": [
        "import random\n",
        "\n",
        "def genetic_algorithm(fitness_func, gene_length, population_size, num_generations):\n",
        "    population = initialize_population(gene_length, population_size)\n",
        "    for _ in range(num_generations):\n",
        "        fitness_scores = [fitness_func(individual) for individual in population]\n",
        "        new_population = []\n",
        "\n",
        "        for _ in range(population_size):\n",
        "            parent1, parent2 = select_parents(population, fitness_scores)\n",
        "            child = crossover(parent1, parent2)\n",
        "            mutate(child)\n",
        "            new_population.append(child)\n",
        "\n",
        "        population = new_population\n",
        "\n",
        "    best_solution = max(population, key=fitness_func)\n",
        "    return best_solution\n",
        "\n",
        "def initialize_population(gene_length, population_size):\n",
        "    return [random.choices([0, 1], k=gene_length) for _ in range(population_size)]\n",
        "\n",
        "def select_parents(population, fitness_scores):\n",
        "    # Roulette wheel selection, tournament selection, etc.\n",
        "    parent1 = population[fitness_scores.index(min(fitness_scores))]\n",
        "    fitness_scores[fitness_scores.index(min(fitness_scores))] = max(fitness_scores)\n",
        "    parent2 = population[fitness_scores.index(min(fitness_scores))]\n",
        "    return parent1, parent2\n",
        "\n",
        "def crossover(parent1, parent2):\n",
        "    # Single-point crossover, two-point crossover, etc.\n",
        "    crossover_point = random.randint(1, len(parent1) - 1)\n",
        "    child = parent1[:crossover_point] + parent2[crossover_point:]\n",
        "    return child\n",
        "\n",
        "def mutate(child):\n",
        "    # Bit-flip mutation, swap mutation, etc.\n",
        "    mutation_point = random.randint(0, len(child) - 1)\n",
        "    child[mutation_point] = 1 - child[mutation_point]\n",
        "\n",
        "# Example usage\n",
        "def maximize_function(genes):\n",
        "    return sum(genes)  # Example fitness function\n",
        "\n",
        "gene_length = 10\n",
        "population_size = 50\n",
        "num_generations = 100\n",
        "best_solution = genetic_algorithm(maximize_function, gene_length, population_size, num_generations)\n",
        "print(\"Best solution:\", best_solution)\n"
      ],
      "metadata": {
        "colab": {
          "base_uri": "https://localhost:8080/"
        },
        "id": "qh5LkXB3NS7z",
        "outputId": "af79e4fc-b71c-4831-ebd6-5baf1ea6140b"
      },
      "execution_count": 10,
      "outputs": [
        {
          "output_type": "stream",
          "name": "stdout",
          "text": [
            "Best solution: [1, 1, 1, 0, 1, 1, 1, 0, 0, 1]\n"
          ]
        }
      ]
    }
  ]
}