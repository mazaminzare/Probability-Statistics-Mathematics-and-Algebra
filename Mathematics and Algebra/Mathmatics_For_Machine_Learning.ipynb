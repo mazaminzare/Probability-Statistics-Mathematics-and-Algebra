{
  "nbformat": 4,
  "nbformat_minor": 0,
  "metadata": {
    "colab": {
      "provenance": []
    },
    "kernelspec": {
      "name": "python3",
      "display_name": "Python 3"
    },
    "language_info": {
      "name": "python"
    }
  },
  "cells": [
    {
      "cell_type": "markdown",
      "source": [
        "# Linear Algebra:\n"
      ],
      "metadata": {
        "id": "ASL45Vu4qU7U"
      }
    },
    {
      "cell_type": "code",
      "execution_count": 1,
      "metadata": {
        "colab": {
          "base_uri": "https://localhost:8080/"
        },
        "id": "CIrya_tZo8qd",
        "outputId": "eb6000d3-808a-45dc-c03e-4620fa512917"
      },
      "outputs": [
        {
          "output_type": "stream",
          "name": "stdout",
          "text": [
            "Dot Product: 13\n",
            "Matrix Product:\n",
            "[[19 22]\n",
            " [43 50]]\n"
          ]
        }
      ],
      "source": [
        "# Linear Algebra:\n",
        "\n",
        "import numpy as np\n",
        "\n",
        "# Vectors and Dot Product\n",
        "vector_a = np.array([2, 3])\n",
        "vector_b = np.array([-1, 5])\n",
        "dot_product = np.dot(vector_a, vector_b)\n",
        "print(\"Dot Product:\", dot_product)\n",
        "\n",
        "# Matrices and Matrix Multiplication\n",
        "matrix_a = np.array([[1, 2], [3, 4]])\n",
        "matrix_b = np.array([[5, 6], [7, 8]])\n",
        "matrix_product = np.dot(matrix_a, matrix_b)\n",
        "print(\"Matrix Product:\")\n",
        "print(matrix_product)\n"
      ]
    },
    {
      "cell_type": "markdown",
      "source": [
        "#Calculus:\n"
      ],
      "metadata": {
        "id": "YgsZzQ1PqZYc"
      }
    },
    {
      "cell_type": "code",
      "source": [
        "#Calculus:\n",
        "import sympy as sp\n",
        "\n",
        "# Derivative\n",
        "x = sp.symbols('x')\n",
        "expr = x**3 + 2*x**2 + 5*x\n",
        "derivative = sp.diff(expr, x)\n",
        "print(\"Derivative:\", derivative)\n",
        "\n",
        "# Definite Integral\n",
        "integral_expr = x**2\n",
        "integral_result = sp.integrate(integral_expr, (x, 0, 2))\n",
        "print(\"Definite Integral:\", integral_result)\n"
      ],
      "metadata": {
        "colab": {
          "base_uri": "https://localhost:8080/"
        },
        "id": "Y4rv08EDqbfr",
        "outputId": "6625835f-5cf3-4756-8885-4ded117ac794"
      },
      "execution_count": 2,
      "outputs": [
        {
          "output_type": "stream",
          "name": "stdout",
          "text": [
            "Derivative: 3*x**2 + 4*x + 5\n",
            "Definite Integral: 8/3\n"
          ]
        }
      ]
    },
    {
      "cell_type": "markdown",
      "source": [
        "# Probability and Statistics:"
      ],
      "metadata": {
        "id": "xDTLjwGRq-Bj"
      }
    },
    {
      "cell_type": "code",
      "source": [
        "#Probability and Statistics:\n",
        "\n",
        "import numpy as np\n",
        "from scipy.stats import norm\n",
        "\n",
        "# Probability Distribution (Normal Distribution)\n",
        "mu = 0\n",
        "sigma = 1\n",
        "x = np.linspace(-5, 5, 100)\n",
        "pdf = norm.pdf(x, mu, sigma)\n",
        "print(\"Probability Density Function (PDF):\", pdf[:10])\n",
        "\n",
        "# Mean and Variance\n",
        "data = [3, 6, 8, 9, 12]\n",
        "mean = np.mean(data)\n",
        "variance = np.var(data)\n",
        "print(\"Mean:\", mean)\n",
        "print(\"Variance:\", variance)\n"
      ],
      "metadata": {
        "colab": {
          "base_uri": "https://localhost:8080/"
        },
        "id": "kckGUa6Gq7xt",
        "outputId": "55628703-e7c3-4a26-a5e6-8f7117bfffe8"
      },
      "execution_count": 3,
      "outputs": [
        {
          "output_type": "stream",
          "name": "stdout",
          "text": [
            "Probability Density Function (PDF): [1.48671951e-06 2.45106104e-06 3.99989037e-06 6.46116639e-06\n",
            " 1.03310066e-05 1.63509589e-05 2.56160812e-05 3.97238224e-05\n",
            " 6.09759040e-05 9.26476353e-05]\n",
            "Mean: 7.6\n",
            "Variance: 9.040000000000001\n"
          ]
        }
      ]
    },
    {
      "cell_type": "markdown",
      "source": [
        "# Optimization:"
      ],
      "metadata": {
        "id": "72iGjEA2rEXi"
      }
    },
    {
      "cell_type": "code",
      "source": [
        "# Optimization:\n",
        "\n",
        "import numpy as np\n",
        "from scipy.optimize import minimize\n",
        "\n",
        "# Objective Function\n",
        "def objective(x):\n",
        "    return x**2 + 5*x + 10\n",
        "\n",
        "# Using SciPy's minimize function\n",
        "initial_guess = np.array([0.0])\n",
        "result = minimize(objective, initial_guess)\n",
        "optimal_value = result.fun\n",
        "optimal_solution = result.x\n",
        "print(\"Optimal Value:\", optimal_value)\n",
        "print(\"Optimal Solution:\", optimal_solution)\n"
      ],
      "metadata": {
        "colab": {
          "base_uri": "https://localhost:8080/"
        },
        "id": "JdyWL_sMrEKD",
        "outputId": "15add962-3bd8-4153-b349-9acd6e9f4562"
      },
      "execution_count": 4,
      "outputs": [
        {
          "output_type": "stream",
          "name": "stdout",
          "text": [
            "Optimal Value: 3.750000000000001\n",
            "Optimal Solution: [-2.50000002]\n"
          ]
        }
      ]
    },
    {
      "cell_type": "markdown",
      "source": [
        "#  Information Theory:"
      ],
      "metadata": {
        "id": "T8pEUDlTrJJD"
      }
    },
    {
      "cell_type": "code",
      "source": [
        "#  Information Theory:\n",
        "import numpy as np\n",
        "\n",
        "# Entropy Calculation\n",
        "probabilities = np.array([0.2, 0.5, 0.3])\n",
        "entropy = -np.sum(probabilities * np.log2(probabilities))\n",
        "print(\"Entropy:\", entropy)\n"
      ],
      "metadata": {
        "colab": {
          "base_uri": "https://localhost:8080/"
        },
        "id": "kMcKXrfCrI_j",
        "outputId": "167c5247-e501-4b90-e38d-a269e48e7414"
      },
      "execution_count": 5,
      "outputs": [
        {
          "output_type": "stream",
          "name": "stdout",
          "text": [
            "Entropy: 1.4854752972273344\n"
          ]
        }
      ]
    },
    {
      "cell_type": "markdown",
      "source": [
        "#  Linear Regression and Least Squares:\n"
      ],
      "metadata": {
        "id": "F1efipsnrM7C"
      }
    },
    {
      "cell_type": "code",
      "source": [
        "#  Linear Regression and Least Squares:\n",
        "import numpy as np\n",
        "from sklearn.linear_model import LinearRegression\n",
        "\n",
        "# Sample Data\n",
        "X = np.array([[1], [2], [3]])\n",
        "y = np.array([2, 4, 6])\n",
        "\n",
        "# Linear Regression\n",
        "model = LinearRegression()\n",
        "model.fit(X, y)\n",
        "slope = model.coef_[0]\n",
        "intercept = model.intercept_\n",
        "print(\"Slope:\", slope)\n",
        "print(\"Intercept:\", intercept)\n"
      ],
      "metadata": {
        "colab": {
          "base_uri": "https://localhost:8080/"
        },
        "id": "5KJXkKv9rNDa",
        "outputId": "e203f0ea-cb2d-4067-ea2b-b1ebd3ee03d5"
      },
      "execution_count": 6,
      "outputs": [
        {
          "output_type": "stream",
          "name": "stdout",
          "text": [
            "Slope: 1.9999999999999996\n",
            "Intercept: 8.881784197001252e-16\n"
          ]
        }
      ]
    },
    {
      "cell_type": "markdown",
      "source": [
        "# Probability Distributions:\n"
      ],
      "metadata": {
        "id": "K8xjma-mrZx6"
      }
    },
    {
      "cell_type": "code",
      "source": [
        "# Probability Distributions:\n",
        "\n",
        "import numpy as np\n",
        "from scipy.stats import poisson, bernoulli\n",
        "\n",
        "# Poisson Distribution\n",
        "lambda_poisson = 3\n",
        "poisson_samples = poisson.rvs(lambda_poisson, size=10)\n",
        "print(\"Poisson Samples:\", poisson_samples)\n",
        "\n",
        "# Bernoulli Distribution\n",
        "p_bernoulli = 0.7\n",
        "bernoulli_samples = bernoulli.rvs(p_bernoulli, size=10)\n",
        "print(\"Bernoulli Samples:\", bernoulli_samples)\n"
      ],
      "metadata": {
        "colab": {
          "base_uri": "https://localhost:8080/"
        },
        "id": "5Qt5v7xyrV-C",
        "outputId": "c1aba060-5dd7-484d-ee34-8d8a2540978a"
      },
      "execution_count": 7,
      "outputs": [
        {
          "output_type": "stream",
          "name": "stdout",
          "text": [
            "Poisson Samples: [8 2 2 4 1 3 1 3 3 0]\n",
            "Bernoulli Samples: [1 1 1 0 0 1 0 1 1 1]\n"
          ]
        }
      ]
    },
    {
      "cell_type": "markdown",
      "source": [
        "# Bayesian Methods:\n",
        "\n"
      ],
      "metadata": {
        "id": "t4NDaqiJreQq"
      }
    },
    {
      "cell_type": "code",
      "source": [
        "# Bayesian Methods:\n",
        "\n",
        "import numpy as np\n",
        "from scipy.stats import beta\n",
        "\n",
        "# Bayesian Update using Beta Distribution\n",
        "prior_alpha = 5\n",
        "prior_beta = 5\n",
        "observed_successes = 15\n",
        "observed_failures = 5\n",
        "\n",
        "posterior_alpha = prior_alpha + observed_successes\n",
        "posterior_beta = prior_beta + observed_failures\n",
        "posterior_mean = posterior_alpha / (posterior_alpha + posterior_beta)\n",
        "print(f\"Posterior Mean: {posterior_mean}\")\n"
      ],
      "metadata": {
        "colab": {
          "base_uri": "https://localhost:8080/"
        },
        "id": "JbXFUMvvrekK",
        "outputId": "943330ee-b3a8-4ce4-80c9-52838f14cc4b"
      },
      "execution_count": 13,
      "outputs": [
        {
          "output_type": "stream",
          "name": "stdout",
          "text": [
            "Posterior Mean: 0.6666666666666666\n"
          ]
        }
      ]
    },
    {
      "cell_type": "markdown",
      "source": [
        "# Matrix Decompositions:"
      ],
      "metadata": {
        "id": "-oXJDdF-rnly"
      }
    },
    {
      "cell_type": "code",
      "source": [
        "# Matrix Decompositions:\n",
        "\n",
        "import numpy as np\n",
        "from scipy.linalg import svd\n",
        "\n",
        "# Singular Value Decomposition (SVD)\n",
        "matrix = np.array([[1, 2], [3, 4], [5, 6]])\n",
        "U, S, Vt = svd(matrix)\n",
        "print(f\"U: {U}\")\n",
        "print(\"=============================================\")\n",
        "print(f\"Singular Values: {S}\")\n",
        "print(\"=============================================\")\n",
        "print(f\"Vt: {Vt}\")\n"
      ],
      "metadata": {
        "colab": {
          "base_uri": "https://localhost:8080/"
        },
        "id": "FYkirfWkrnMy",
        "outputId": "448c3003-398d-463e-dd32-3122506badab"
      },
      "execution_count": 14,
      "outputs": [
        {
          "output_type": "stream",
          "name": "stdout",
          "text": [
            "U: [[-0.2298477   0.88346102  0.40824829]\n",
            " [-0.52474482  0.24078249 -0.81649658]\n",
            " [-0.81964194 -0.40189603  0.40824829]]\n",
            "=============================================\n",
            "Singular Values: [9.52551809 0.51430058]\n",
            "=============================================\n",
            "Vt: [[-0.61962948 -0.78489445]\n",
            " [-0.78489445  0.61962948]]\n"
          ]
        }
      ]
    },
    {
      "cell_type": "markdown",
      "source": [
        "#  Graph Theory:\n",
        "\n"
      ],
      "metadata": {
        "id": "Eu_eX0zwsFrz"
      }
    },
    {
      "cell_type": "code",
      "source": [
        "#  Graph Theory:\n",
        "import networkx as nx\n",
        "import matplotlib.pyplot as plt\n",
        "\n",
        "# Creating a Graph\n",
        "G = nx.Graph()\n",
        "G.add_edges_from([(1, 2), (2, 3), (3, 4), (4, 1)])\n",
        "\n",
        "# Drawing the Graph\n",
        "pos = nx.spring_layout(G)\n",
        "nx.draw(G, pos, with_labels=True, node_color='lightblue', font_weight='bold')\n",
        "plt.show()\n"
      ],
      "metadata": {
        "colab": {
          "base_uri": "https://localhost:8080/",
          "height": 516
        },
        "id": "nnmt3sLpsF-T",
        "outputId": "dcc450a8-f6b5-43a6-e343-d8bce32a5011"
      },
      "execution_count": 15,
      "outputs": [
        {
          "output_type": "display_data",
          "data": {
            "text/plain": [
              "<Figure size 640x480 with 1 Axes>"
            ],
            "image/png": "[encoded data removed]"
          },
          "metadata": {}
        }
      ]
    }
  ]
}