{
  "nbformat": 4,
  "nbformat_minor": 0,
  "metadata": {
    "colab": {
      "provenance": []
    },
    "kernelspec": {
      "name": "python3",
      "display_name": "Python 3"
    },
    "language_info": {
      "name": "python"
    }
  },
  "cells": [
    {
      "cell_type": "markdown",
      "source": [
        "# **Multivariate Calculus**"
      ],
      "metadata": {
        "id": "B7Zx8gCN0dKr"
      }
    },
    {
      "cell_type": "code",
      "source": [
        "import numpy as np\n",
        "import sympy as sp"
      ],
      "metadata": {
        "id": "pZMnybp20gqq"
      },
      "execution_count": 1,
      "outputs": []
    },
    {
      "cell_type": "code",
      "source": [
        "# Define variables\n",
        "x, y = sp.symbols('x y')"
      ],
      "metadata": {
        "id": "RI8JCBRC0h4y"
      },
      "execution_count": 2,
      "outputs": []
    },
    {
      "cell_type": "markdown",
      "source": [
        "# **Gradient:**"
      ],
      "metadata": {
        "id": "SiI9tXZw0j8i"
      }
    },
    {
      "cell_type": "code",
      "source": [
        "# Gradient\n",
        "f = x**2 + 2*y**2\n",
        "gradient = [sp.diff(f, var) for var in (x, y)]\n",
        "print(\"Gradient:\", gradient)"
      ],
      "metadata": {
        "colab": {
          "base_uri": "https://localhost:8080/"
        },
        "id": "1jiI_oec0jBi",
        "outputId": "ed6bc988-0a56-45c5-e00a-e8ba288d667d"
      },
      "execution_count": 3,
      "outputs": [
        {
          "output_type": "stream",
          "name": "stdout",
          "text": [
            "Gradient: [2*x, 4*y]\n"
          ]
        }
      ]
    },
    {
      "cell_type": "markdown",
      "source": [
        "## **Directional Derivative:**"
      ],
      "metadata": {
        "id": "LeQhaZWm03w7"
      }
    },
    {
      "cell_type": "code",
      "source": [
        "# Directional Derivative\n",
        "direction = np.array([1, 1])  # Direction vector\n",
        "directional_derivative = np.dot(gradient, direction)\n",
        "print(\"Directional Derivative:\", directional_derivative)"
      ],
      "metadata": {
        "colab": {
          "base_uri": "https://localhost:8080/"
        },
        "id": "PZxzGOTA03nq",
        "outputId": "5aac58f3-6745-4ff2-d119-49a8be686347"
      },
      "execution_count": 4,
      "outputs": [
        {
          "output_type": "stream",
          "name": "stdout",
          "text": [
            "Directional Derivative: 2*x + 4*y\n"
          ]
        }
      ]
    },
    {
      "cell_type": "markdown",
      "source": [
        "# **Partial Derivatives:**"
      ],
      "metadata": {
        "id": "OYPedh231q9y"
      }
    },
    {
      "cell_type": "code",
      "source": [
        "# Partial Derivatives\n",
        "partial_x = sp.diff(f, x)\n",
        "partial_y = sp.diff(f, y)\n",
        "print(\"Partial Derivative with respect to x:\", partial_x)\n",
        "print(\"Partial Derivative with respect to y:\", partial_y)"
      ],
      "metadata": {
        "colab": {
          "base_uri": "https://localhost:8080/"
        },
        "id": "mhvpQJFH1KXS",
        "outputId": "c41301b0-0128-4cc1-c119-1fc91fb7de3f"
      },
      "execution_count": 5,
      "outputs": [
        {
          "output_type": "stream",
          "name": "stdout",
          "text": [
            "Partial Derivative with respect to x: 2*x\n",
            "Partial Derivative with respect to y: 4*y\n"
          ]
        }
      ]
    },
    {
      "cell_type": "markdown",
      "source": [
        "# **Hessian Matrix:**"
      ],
      "metadata": {
        "id": "n9sYhgOx1sTi"
      }
    },
    {
      "cell_type": "code",
      "source": [
        "# Hessian Matrix\n",
        "hessian_matrix = np.array([[sp.diff(partial_x, x), sp.diff(partial_x, y)],\n",
        "                            [sp.diff(partial_y, x), sp.diff(partial_y, y)]])\n",
        "print(\"Hessian Matrix:\")\n",
        "print(hessian_matrix)"
      ],
      "metadata": {
        "colab": {
          "base_uri": "https://localhost:8080/"
        },
        "id": "uAzR2fuj1LRJ",
        "outputId": "0a782356-871a-41c4-eeba-e65fb45112cd"
      },
      "execution_count": 6,
      "outputs": [
        {
          "output_type": "stream",
          "name": "stdout",
          "text": [
            "Hessian Matrix:\n",
            "[[2 0]\n",
            " [0 4]]\n"
          ]
        }
      ]
    },
    {
      "cell_type": "markdown",
      "source": [
        "# **Line Integral:**"
      ],
      "metadata": {
        "id": "KAVdaSn61ugq"
      }
    },
    {
      "cell_type": "code",
      "source": [
        "# Line Integral\n",
        "t = sp.symbols('t')\n",
        "curve = sp.Matrix([t, t**2])\n",
        "parametric_equations = curve.subs({t: x})\n",
        "integral_expr = sp.integrate(f.subs({x: parametric_equations[0], y: parametric_equations[1]}) * sp.diff(curve, t).norm(), (t, 0, 1))\n",
        "print(\"Line Integral:\", integral_expr)"
      ],
      "metadata": {
        "colab": {
          "base_uri": "https://localhost:8080/"
        },
        "id": "RwEv1K2A1MMJ",
        "outputId": "e516df62-da2e-42da-98c3-27f53ba4f0c1"
      },
      "execution_count": 7,
      "outputs": [
        {
          "output_type": "stream",
          "name": "stdout",
          "text": [
            "Line Integral: (2*x**4 + x**2)*(asinh(2)/4 + sqrt(5)/2)\n"
          ]
        }
      ]
    },
    {
      "cell_type": "markdown",
      "source": [
        "# **Double Integral:**"
      ],
      "metadata": {
        "id": "2XT6EYVo1vuZ"
      }
    },
    {
      "cell_type": "code",
      "source": [
        "# Double Integral\n",
        "integral_expr = sp.integrate(sp.integrate(f, (x, 0, 1)), (y, 0, 2))\n",
        "print(\"Double Integral:\", integral_expr)"
      ],
      "metadata": {
        "colab": {
          "base_uri": "https://localhost:8080/"
        },
        "id": "MB5FvyKX1M_y",
        "outputId": "d925bde7-16a4-45bd-b6b7-b9bd5cebe28d"
      },
      "execution_count": 8,
      "outputs": [
        {
          "output_type": "stream",
          "name": "stdout",
          "text": [
            "Double Integral: 6\n"
          ]
        }
      ]
    },
    {
      "cell_type": "markdown",
      "source": [
        "# Gradient Descent:"
      ],
      "metadata": {
        "id": "rz-A6gK31ybE"
      }
    },
    {
      "cell_type": "code",
      "source": [
        "# Gradient Descent\n",
        "def gradient_descent(f, initial_point, learning_rate, num_iterations):\n",
        "    point = np.array(initial_point, dtype=float)\n",
        "    for _ in range(num_iterations):\n",
        "        gradient = np.array([sp.diff(f, var).subs({x: point[0], y: point[1]}) for var in (x, y)], dtype=float)\n",
        "        point -= learning_rate * gradient\n",
        "    return point\n",
        "\n",
        "# Example usage of gradient descent\n",
        "f = x**2 + y**2\n",
        "initial_point = [2, 3]\n",
        "learning_rate = 0.1\n",
        "num_iterations = 50\n",
        "minimum = gradient_descent(f, initial_point, learning_rate, num_iterations)\n",
        "print(\"Minimum point:\", minimum)"
      ],
      "metadata": {
        "colab": {
          "base_uri": "https://localhost:8080/"
        },
        "id": "XzAQl-Is1P3K",
        "outputId": "bfff3705-7082-408d-ff9e-8f936fe88f29"
      },
      "execution_count": 10,
      "outputs": [
        {
          "output_type": "stream",
          "name": "stdout",
          "text": [
            "Minimum point: [2.85449539e-05 4.28174308e-05]\n"
          ]
        }
      ]
    }
  ]
}